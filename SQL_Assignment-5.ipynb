{
 "cells": [
  {
   "cell_type": "code",
   "execution_count": 2,
   "id": "6d118403",
   "metadata": {},
   "outputs": [],
   "source": [
    "# Q-1. Write an SQL query to print details of workers excluding first names, “Vipul” and “Satish” from Worker table.\n",
    "\n",
    "#Solution- SELECT * FROM Worker WHERE NOT first_name IN ('Vipul','Satish');"
   ]
  },
  {
   "cell_type": "code",
   "execution_count": 3,
   "id": "7a75f0c8",
   "metadata": {},
   "outputs": [],
   "source": [
    "# Q-2. Write an SQL query to print details of the Workers whose FIRST_NAME ends with ‘h’ and contains six alphabets.\n",
    "\n",
    "#Solution- SELECT * FROM Worker WHERE first_name LIKE '_____h';"
   ]
  },
  {
   "cell_type": "code",
   "execution_count": 4,
   "id": "8ff3f1ac",
   "metadata": {},
   "outputs": [],
   "source": [
    "# Q-3. Write a query to validate Email of Employee.\n",
    "\n",
    "#Solution-  SELECT * FROM Workers WHERE email LIKE \"_%@_%._%\""
   ]
  }
 ],
 "metadata": {
  "kernelspec": {
   "display_name": "Python 3",
   "language": "python",
   "name": "python3"
  },
  "language_info": {
   "codemirror_mode": {
    "name": "ipython",
    "version": 3
   },
   "file_extension": ".py",
   "mimetype": "text/x-python",
   "name": "python",
   "nbconvert_exporter": "python",
   "pygments_lexer": "ipython3",
   "version": "3.8.8"
  }
 },
 "nbformat": 4,
 "nbformat_minor": 5
}
