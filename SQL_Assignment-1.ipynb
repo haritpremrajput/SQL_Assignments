{
 "cells": [
  {
   "cell_type": "code",
   "execution_count": 2,
   "id": "4c65d215",
   "metadata": {},
   "outputs": [],
   "source": [
    "#Q-1. Write an SQL query to fetch “FIRST_NAME” from Worker table using the alias name <WORKER_NAME>.\n",
    "\n",
    "#Solution- SELECT FIRST_NAME AS WORKER_NAME FROM Worker;"
   ]
  },
  {
   "cell_type": "code",
   "execution_count": 3,
   "id": "e73f4f1e",
   "metadata": {},
   "outputs": [],
   "source": [
    "#Q-2. Write an SQL query to fetch unique values of DEPARTMENT from Worker table.\n",
    "\n",
    "#Solution- SELECT DISTINCT DEPARTMENT FROM Worker;"
   ]
  },
  {
   "cell_type": "code",
   "execution_count": 4,
   "id": "5e73163a",
   "metadata": {},
   "outputs": [],
   "source": [
    "#Q-3. Write an SQL query to show the last 5 record from a table.\n",
    "\n",
    "#Solution- SELECT * FROM Worker ORDER BY id DESC LIMIT 5;"
   ]
  }
 ],
 "metadata": {
  "kernelspec": {
   "display_name": "Python 3",
   "language": "python",
   "name": "python3"
  },
  "language_info": {
   "codemirror_mode": {
    "name": "ipython",
    "version": 3
   },
   "file_extension": ".py",
   "mimetype": "text/x-python",
   "name": "python",
   "nbconvert_exporter": "python",
   "pygments_lexer": "ipython3",
   "version": "3.8.8"
  }
 },
 "nbformat": 4,
 "nbformat_minor": 5
}
