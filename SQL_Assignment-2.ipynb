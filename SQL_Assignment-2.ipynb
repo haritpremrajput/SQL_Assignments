{
 "cells": [
  {
   "cell_type": "code",
   "execution_count": 1,
   "id": "26579e51",
   "metadata": {},
   "outputs": [],
   "source": [
    "#Q-1. Write an SQL query to print the first three characters of  FIRST_NAME from Worker table.\n",
    "\n",
    "#Solution- SELECT SUBSTRING(FIRST_NAME,1,3) FROM Worker;"
   ]
  },
  {
   "cell_type": "code",
   "execution_count": 2,
   "id": "757b935e",
   "metadata": {},
   "outputs": [],
   "source": [
    "#Q-2. Write an SQL query to find the position of the alphabet (‘a’) in the first name column ‘Amitabh’ from Worker table\n",
    "\n",
    "#Solution- SELECT CHARINDEX('a', FIRST_NAME) FROM Worker WHERE FIRST_NAME = 'Amitabh';"
   ]
  },
  {
   "cell_type": "code",
   "execution_count": 3,
   "id": "ac7e6f14",
   "metadata": {},
   "outputs": [],
   "source": [
    "#Q-3. Write an SQL query to print the name of employees having the highest salary in each department.\n",
    "\n",
    "#Solution- SELECT FIRST_NAME, LAST_NAME, department, salary FROM Worker \n",
    "#          WHERE salary IN (SELECT MAX salary FROM Worker GROUP BY department);"
   ]
  }
 ],
 "metadata": {
  "kernelspec": {
   "display_name": "Python 3",
   "language": "python",
   "name": "python3"
  },
  "language_info": {
   "codemirror_mode": {
    "name": "ipython",
    "version": 3
   },
   "file_extension": ".py",
   "mimetype": "text/x-python",
   "name": "python",
   "nbconvert_exporter": "python",
   "pygments_lexer": "ipython3",
   "version": "3.8.8"
  }
 },
 "nbformat": 4,
 "nbformat_minor": 5
}
