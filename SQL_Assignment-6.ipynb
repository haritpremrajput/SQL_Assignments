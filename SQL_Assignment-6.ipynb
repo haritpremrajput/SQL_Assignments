{
 "cells": [
  {
   "cell_type": "code",
   "execution_count": null,
   "id": "1f28f79f",
   "metadata": {},
   "outputs": [],
   "source": [
    "# Q-1. Write an SQL query to print details of the Workers who have joined in Feb’2014.\n",
    "\n",
    "#Solution- SELECT * FROM Worker WHERE Joining_date BETWEEN '01-02-2022' AND '28-02-2022';"
   ]
  },
  {
   "cell_type": "code",
   "execution_count": null,
   "id": "b2b9778a",
   "metadata": {},
   "outputs": [],
   "source": [
    "# Q-2. Write an SQL query to fetch duplicate records having matching data in some fields of a table.\n",
    "\n",
    "#Solution- SELECT first_name, last_name, count(*) AS Duplicates FROM Workers \n",
    "#          GROUP BY first_name, last_name HAVING COUNT(*) > 1;"
   ]
  },
  {
   "cell_type": "code",
   "execution_count": null,
   "id": "a56274c3",
   "metadata": {},
   "outputs": [],
   "source": [
    "# Q-3. How to remove duplicate rows from Employees table.\n",
    "\n",
    "#Solution- DELETE FROM Employees WHERE SN NOT IN (Select Max(SN) from Employees Group by first_name, last_name);"
   ]
  }
 ],
 "metadata": {
  "kernelspec": {
   "display_name": "Python 3 (ipykernel)",
   "language": "python",
   "name": "python3"
  },
  "language_info": {
   "codemirror_mode": {
    "name": "ipython",
    "version": 3
   },
   "file_extension": ".py",
   "mimetype": "text/x-python",
   "name": "python",
   "nbconvert_exporter": "python",
   "pygments_lexer": "ipython3",
   "version": "3.9.12"
  }
 },
 "nbformat": 4,
 "nbformat_minor": 5
}
